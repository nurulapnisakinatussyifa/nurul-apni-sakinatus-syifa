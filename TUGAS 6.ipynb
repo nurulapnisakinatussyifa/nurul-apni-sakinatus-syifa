{
 "cells": [
  {
   "cell_type": "code",
   "execution_count": 6,
   "metadata": {},
   "outputs": [
    {
     "name": "stdout",
     "output_type": "stream",
     "text": [
      "berapakah nilai kamu?60\n",
      "kamu harus ikut remidi\n"
     ]
    }
   ],
   "source": [
    "#if\n",
    "nilai = int(input (\"berapakah nilai kamu?\"))\n",
    "if nilai <70:\n",
    "    print(\"kamu harus ikut remidi\")\n"
   ]
  },
  {
   "cell_type": "code",
   "execution_count": 13,
   "metadata": {},
   "outputs": [
    {
     "name": "stdout",
     "output_type": "stream",
     "text": [
      "masukkan jari-jari20\n",
      "1256\n",
      "lingkaran ini besar\n"
     ]
    }
   ],
   "source": [
    "#else\n",
    "r = int(input(\"masukkan jari-jari\"))\n",
    "L = 3.14*r*r\n",
    "print (int(L))\n",
    "\n",
    "if L >= 314:\n",
    "    print (\"lingkaran ini besar\")\n",
    "else:\n",
    "    print (\"lingkaran ini kecil\")\n"
   ]
  },
  {
   "cell_type": "code",
   "execution_count": 14,
   "metadata": {},
   "outputs": [
    {
     "name": "stdout",
     "output_type": "stream",
     "text": [
      "masukkan jari-jari7\n",
      "153\n",
      "lingkaran ini kecil\n"
     ]
    }
   ],
   "source": [
    "#else\n",
    "r = int(input(\"masukkan jari-jari\"))\n",
    "L = 3.14*r*r\n",
    "print (int(L))\n",
    "\n",
    "if L >= 314:\n",
    "    print (\"lingkaran ini besar\")\n",
    "else:\n",
    "    print (\"lingkaran ini kecil\")"
   ]
  },
  {
   "cell_type": "code",
   "execution_count": 17,
   "metadata": {},
   "outputs": [
    {
     "name": "stdout",
     "output_type": "stream",
     "text": [
      "masukkan nomer program2\n",
      "masukkan s10\n",
      "volume kubus = 1000\n"
     ]
    }
   ],
   "source": [
    "#if/elif/else\n",
    "\n",
    "\n",
    "def Vbalok():\n",
    "    p = int(input (\"masukkan p\"))\n",
    "    l = int(input (\"masukkan l\"))\n",
    "    t = int(input (\"masukkan t\"))\n",
    "    V_balok = p*l*t\n",
    "    print (\"volume balok=\", V_balok)\n",
    "    \n",
    "def Vkubus() :\n",
    "    s = int(input (\"masukkan s\"))\n",
    "    V_kubus = s*s*s\n",
    "    print (\"volume kubus =\", V_kubus)\n",
    "    \n",
    "program =int(input(\"masukkan nomer program\"))\n",
    "\n",
    "if program == 1:\n",
    "    Vbalok()\n",
    "elif program == 2:\n",
    "    Vkubus()\n",
    "else:\n",
    "    print (\"program tidak tersedia\") \n",
    "    \n",
    "\n",
    "\n",
    "\n",
    "\n"
   ]
  },
  {
   "cell_type": "code",
   "execution_count": null,
   "metadata": {},
   "outputs": [],
   "source": []
  }
 ],
 "metadata": {
  "kernelspec": {
   "display_name": "Python 3",
   "language": "python",
   "name": "python3"
  },
  "language_info": {
   "codemirror_mode": {
    "name": "ipython",
    "version": 3
   },
   "file_extension": ".py",
   "mimetype": "text/x-python",
   "name": "python",
   "nbconvert_exporter": "python",
   "pygments_lexer": "ipython3",
   "version": "3.8.3"
  }
 },
 "nbformat": 4,
 "nbformat_minor": 4
}
