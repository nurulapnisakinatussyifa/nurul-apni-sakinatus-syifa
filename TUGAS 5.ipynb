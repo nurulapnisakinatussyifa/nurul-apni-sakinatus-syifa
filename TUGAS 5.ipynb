{
 "cells": [
  {
   "cell_type": "code",
   "execution_count": 8,
   "metadata": {},
   "outputs": [
    {
     "name": "stdout",
     "output_type": "stream",
     "text": [
      "because I proud to make something new\n",
      "I like listening music\n"
     ]
    }
   ],
   "source": [
    "#nurul apni sakinatus syifa\n",
    "#membuat fungsi 1\n",
    "def biodata () :\n",
    "    print (\"because I proud to make something new\")\n",
    "    print (\"I like listening music\")\n",
    "    \n",
    "#pemanggilan fungsi\n",
    "biodata ()\n"
   ]
  },
  {
   "cell_type": "code",
   "execution_count": 12,
   "metadata": {},
   "outputs": [
    {
     "name": "stdout",
     "output_type": "stream",
     "text": [
      " nama saya adalah nurul apni sakinatus syifa\n",
      "perkenalkan nama saya adalah nurul apni sakinatus syifa dari Tegal\n",
      "luas persegi panjang adalah 24\n"
     ]
    }
   ],
   "source": [
    "# nurul apni sakinatus syifa \n",
    "\n",
    "def fungsi_1() :\n",
    "    nama= input (\" nama saya adalah \")\n",
    "    print(\"perkenalkan nama saya adalah\",nama,\"dari Tegal\")\n",
    "def luas_persegi_panjang (panjang,lebar):\n",
    "    luas=(panjang*lebar)\n",
    "    print(\"luas persegi panjang adalah\",luas)\n",
    "fungsi_1()\n",
    "luas_persegi_panjang(4,6)\n",
    "\n",
    "    \n"
   ]
  },
  {
   "cell_type": "code",
   "execution_count": 13,
   "metadata": {},
   "outputs": [
    {
     "name": "stdout",
     "output_type": "stream",
     "text": [
      "luas persegi panjang 30\n",
      "volume kubus 252\n"
     ]
    }
   ],
   "source": [
    "def luas_persegi_panjang(panjang,lebar) :\n",
    "    luas = panjang * lebar\n",
    "    return luas\n",
    "\n",
    "def volume_kubus(panjang,lebar,tinggi) :\n",
    "    volume = panjang*lebar*tinggi\n",
    "    return volume\n",
    "print(\"luas persegi panjang\",luas_persegi_panjang(5,6))\n",
    "print(\"volume kubus\",volume_kubus(6,7,6))\n"
   ]
  },
  {
   "cell_type": "code",
   "execution_count": 14,
   "metadata": {},
   "outputs": [
    {
     "name": "stdout",
     "output_type": "stream",
     "text": [
      "masukkan angka pertama 6\n",
      "masukan angka kedua 9\n",
      "angka pertama sama dengan angka kedua adalah False\n",
      "angka pertama lebih besar daripada angka kedua False\n"
     ]
    }
   ],
   "source": [
    "#fungsi,input,operator logika\n",
    "angka_1 = float (input (\"masukkan angka pertama\"))\n",
    "angka_2 = float (input (\"masukan angka kedua\"))\n",
    "\n",
    "def fungsi_operator1 () :\n",
    "    operator1= angka_1==angka_2\n",
    "    print (\"angka pertama sama dengan angka kedua adalah\",operator1)\n",
    "def fungsi_operator2 () :\n",
    "    operator2=angka_1>angka_2\n",
    "    print (\"angka pertama lebih besar daripada angka kedua\",operator2)\n",
    "fungsi_operator1()\n",
    "fungsi_operator2()"
   ]
  },
  {
   "cell_type": "code",
   "execution_count": null,
   "metadata": {},
   "outputs": [],
   "source": []
  }
 ],
 "metadata": {
  "kernelspec": {
   "display_name": "Python 3",
   "language": "python",
   "name": "python3"
  },
  "language_info": {
   "codemirror_mode": {
    "name": "ipython",
    "version": 3
   },
   "file_extension": ".py",
   "mimetype": "text/x-python",
   "name": "python",
   "nbconvert_exporter": "python",
   "pygments_lexer": "ipython3",
   "version": "3.8.3"
  }
 },
 "nbformat": 4,
 "nbformat_minor": 4
}
