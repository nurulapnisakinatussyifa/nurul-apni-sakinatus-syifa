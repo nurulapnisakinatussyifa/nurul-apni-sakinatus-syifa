{
 "cells": [
  {
   "cell_type": "code",
   "execution_count": 3,
   "metadata": {},
   "outputs": [
    {
     "name": "stdout",
     "output_type": "stream",
     "text": [
      "hasil 50 * 2 = 100\n",
      "hasil 50 / 2 = 25.0\n",
      "hasil 50 + 2 = 52\n",
      "hasil 50 - 2 = 48\n",
      "hasil 50 % 2 = 0\n",
      "hasil 50 ** 2 = 2500\n"
     ]
    }
   ],
   "source": [
    "#operator aritmatika\n",
    "\n",
    "a= 50\n",
    "b=2\n",
    "\n",
    "#menggunakan operator perkalian \n",
    "c= a*b\n",
    "print (\"hasil\",a,\"*\",b,\"=\",c)\n",
    "\n",
    "#menggunakan operator pembagian\n",
    "d= a/b\n",
    "print(\"hasil\",a,\"/\",b,\"=\",d)\n",
    "\n",
    "#menggunakan operator penjumlahan\n",
    "e= a+b\n",
    "print (\"hasil\",a,\"+\",b,\"=\",e)\n",
    "\n",
    "#menggunakan operator pengurangan\n",
    "f= a-b\n",
    "print (\"hasil\",a,\"-\",b,\"=\",f)\n",
    "\n",
    "#menggunakan operator sisa bagi\n",
    "g= a%b\n",
    "print (\"hasil\",a,\"%\",b,\"=\",g)\n",
    "\n",
    "#menggunakan operator pemangkatan\n",
    "h= a**b\n",
    "print (\"hasil\",a,\"**\",b,\"=\",h)\n"
   ]
  },
  {
   "cell_type": "code",
   "execution_count": 14,
   "metadata": {},
   "outputs": [
    {
     "name": "stdout",
     "output_type": "stream",
     "text": [
      "20\n",
      "23\n",
      "18\n",
      "72\n",
      "36.0\n",
      "46656.0\n",
      "0.0\n"
     ]
    }
   ],
   "source": [
    "#operator penugasan\n",
    "\n",
    "#penjumlahan\n",
    "a=20\n",
    "print (a)\n",
    "\n",
    "a+= 3\n",
    "print (a)\n",
    "\n",
    "#pengurangan\n",
    "\n",
    "a-= 5\n",
    "print (a)\n",
    "\n",
    "#perkalian\n",
    "\n",
    "a*= 4\n",
    "print (a)\n",
    "\n",
    "#pembagian\n",
    "a/=2\n",
    "print (a)\n",
    "\n",
    "#pemangkatan \n",
    "a**= 3\n",
    "print (a)\n",
    "\n",
    "#sisa bagi\n",
    "a%= 4\n",
    "print (a)\n",
    "\n"
   ]
  },
  {
   "cell_type": "code",
   "execution_count": 21,
   "metadata": {},
   "outputs": [
    {
     "name": "stdout",
     "output_type": "stream",
     "text": [
      "apakah a sama dengan b: False\n",
      "apakah a lebih besar b: True\n",
      "apakah a lebih kecil b: False\n",
      "apakah a tidak sama dengan b: True\n",
      "apakah a lebih besar sama dengan b: True\n",
      "apakah a lebih kecil sama denagn b: False\n"
     ]
    }
   ],
   "source": [
    "#operator pembanding\n",
    "\n",
    "a= 14\n",
    "b= 4\n",
    "\n",
    "#sama dengan \n",
    "c = a == b\n",
    "print (\"apakah a sama dengan b:\", c)\n",
    "#lebih besar\n",
    "d = a > b\n",
    "print (\"apakah a lebih besar b:\", d)\n",
    "#lebih kecil \n",
    "e = a < b\n",
    "print (\"apakah a lebih kecil b:\", e)\n",
    "#tidak sama dengan\n",
    "f = a != b\n",
    "print (\"apakah a tidak sama dengan b:\",f)\n",
    "#lebih besar sama dengan\n",
    "g = a >= b\n",
    "print (\"apakah a lebih besar sama dengan b:\",g)\n",
    "#lebih kecil sama dengan\n",
    "h = a <= b\n",
    "print (\"apakah a lebih kecil sama denagn b:\",h)"
   ]
  },
  {
   "cell_type": "code",
   "execution_count": 32,
   "metadata": {},
   "outputs": [
    {
     "name": "stdout",
     "output_type": "stream",
     "text": [
      "False\n",
      "True\n",
      "False\n"
     ]
    }
   ],
   "source": [
    "#operator logika\n",
    "a = True\n",
    "b = False\n",
    "\n",
    "#and \n",
    "c = a and b\n",
    "print (c)\n",
    "#or\n",
    "d = a or b\n",
    "print (d)\n",
    "#not\n",
    "e = not a\n",
    "print (e)"
   ]
  },
  {
   "cell_type": "code",
   "execution_count": 2,
   "metadata": {},
   "outputs": [
    {
     "name": "stdout",
     "output_type": "stream",
     "text": [
      "nama bayi giandra\n",
      "nama bayi : giandra\n",
      "berat 3\n",
      "berat : 3 kg\n",
      "berat : 30 ons\n",
      "berat bayi 1 bulan kedepan 60 ons\n"
     ]
    }
   ],
   "source": [
    "nama = input (\"nama bayi \")\n",
    "print(\"nama bayi :\",nama)\n",
    "berat = int(input(\"berat \"))\n",
    "print(\"berat :\",berat,\"kg\")\n",
    "berat *= 10\n",
    "print(\"berat :\",berat,\"ons\")\n",
    "berat += 30\n",
    "print (\"berat bayi 1 bulan kedepan\",berat,\"ons\")"
   ]
  }
 ],
 "metadata": {
  "kernelspec": {
   "display_name": "Python 3",
   "language": "python",
   "name": "python3"
  },
  "language_info": {
   "codemirror_mode": {
    "name": "ipython",
    "version": 3
   },
   "file_extension": ".py",
   "mimetype": "text/x-python",
   "name": "python",
   "nbconvert_exporter": "python",
   "pygments_lexer": "ipython3",
   "version": "3.8.3"
  }
 },
 "nbformat": 4,
 "nbformat_minor": 4
}
